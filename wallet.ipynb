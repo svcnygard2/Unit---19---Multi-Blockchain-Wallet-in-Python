{
 "cells": [
  {
   "cell_type": "code",
   "execution_count": 1,
   "metadata": {},
   "outputs": [],
   "source": [
    "# Dependencies\n",
    "import subprocess\n",
    "import json\n",
    "import os\n",
    "\n",
    "from constants import BTC, BTCTEST, ETH\n",
    "from pprint import pprint\n",
    "\n",
    "from bit import PrivateKeyTestnet\n",
    "from bit.network import NetworkAPI\n",
    "\n",
    "from web3 import Web3, middleware, Account\n",
    "from web3.gas_strategies.time_based import medium_gas_price_strategy\n",
    "from web3.middleware import geth_poa_middleware\n",
    "\n",
    "from eth_account import Account"
   ]
  },
  {
   "cell_type": "code",
   "execution_count": 2,
   "metadata": {},
   "outputs": [],
   "source": [
    "# Connect Web3\n",
    "w3 = Web3(Web3.HTTPProvider(os.getenv('WEB3_PROVIDER', 'http://localhost:8545')))\n",
    "w3 = Web3(Web3.HTTPProvider(\"http://127.0.0.1:8545\"))\n",
    "w3.middleware_onion.inject(geth_poa_middleware, layer=0)\n",
    "\n",
    "# Current block number\n",
    "w3.eth.blockNumber\n",
    "\n",
    "# Set Gas Price Strategy\n",
    "w3.eth.setGasPriceStrategy(medium_gas_price_strategy)\n",
    "\n",
    "# Mnemonic Phrase\n",
    "mnemonic = os.getenv(\"MNEMONIC\", 'abuse blood note choice garbage spot ice roast smoke yard foster chuckle')"
   ]
  },
  {
   "cell_type": "code",
   "execution_count": 3,
   "metadata": {},
   "outputs": [
    {
     "name": "stdout",
     "output_type": "stream",
     "text": [
      "b\"\\n+-----------------+------------------------------------+-----------------------------------------------------------------------------------------------------------------+-----------------------------------------------------------------------------------------------------------------+------------------------------------------------------+--------------------------------------------------------------------+------------------------------------------+-------+\\n| path            | address                            | xprv                                                                                                            | xpub                                                                                                            | privkey                                              | pubkey                                                             | pubkeyhash                               | index |\\n+-----------------+------------------------------------+-----------------------------------------------------------------------------------------------------------------+-----------------------------------------------------------------------------------------------------------------+------------------------------------------------------+--------------------------------------------------------------------+------------------------------------------+-------+\\n| m/44'/0'/0'/0/0 | 14Mh6Bc7w3waQkypXJ6uwBg4HCd5LwCDQi | xprvA3B55sPmWDUZfEZyyixMAKDVA2Cdrj6Wd2hDm52WFuCjjXTCAWsnHcSfkvEYF3AR3bvRyjtgUNhB5k8eBDWSrRiX4zvg2koMPf5xcR5yWcX | xpub6GARVNvfLb2rsieT5kVMXTADi438GBpMzFcpZTS7pEjicKnLi4C2qQm9cC72WafsncqukefzaLteCXgX4YZ5j6eyaHauemy41ATgVXAKhUU | L4TK9FnGiMjtN2zEVyDo4H3FgNvEozgH1ppV3ujUJUuvMpS1JGaZ | 03467ca17fdd15e7f36e85608c1aa96bd83670d33716e35836181108b685027887 | 24d2295802b6801b343b17740fa012c42cf35ae5 |     0 |\\n| m/44'/0'/0'/0/1 | 1HAkAsGGs24aTFebAyM4mvrZhNYdQRmF1Z | xprvA3B55sPmWDUZhWNcBWVKqBszbhfhXSRYu1M164NwWLSF2sApYCn8rTXzCoarMPsnXgX1max3eqFEoH983tpu28J4QZ6cLTq6PHxEwMk7HXm | xpub6GARVNvfLb2ruzT5HY2LCKpj9jWBvu9QGEGbtSnZ4fyDufVy5k6PQFrU44dJTGNuVKrP9uLQcmnNcA4WimHMyG7MpCpzLuZ2usVp1ooY9sf | L1bippkmpAt5macSPcAE4qcujMHhqdhjT8LaFqztgPMtUvCwXMeS | 028439bace109d60530751882885ed70934679846cfce6d22c59542088a7f5dbf2 | b159caf4796f20e54752d9082733acd6769c9268 |     1 |\\n| m/44'/0'/0'/0/2 | 1KGgY1PY1VVGyawJwq95Evoscpxjb5nHfJ | xprvA3B55sPmWDUZkHrB1uqyRW2zamVBNYYKUTs2J844QGhdD86nWUnjz7byreysRnqyadZFcuyjAtjwHFb69t8wsjG9rZ1Lk8y2NXFEa3ir7VZ | xpub6GARVNvfLb2rxmve7wNyndyj8oKfn1GAqgnd6WTfxcEc5vRw426zXuvThvdFZrTa3sRVrAdGyfEMrKsTRxRZsd8qkhBVznKf9vHaxbREEfH | L2rDxi2Fpvp4xpdva2e84tauo9uNof1GwfHSavVQnB7BGD5UTk3J | 02f8d7126365216a93a3b57d18c2a10cbc1c8fb88d24fed2756b519827870344a8 | c869815efa5d0825194149fe38462e1e3c485b51 |     2 |\\n| m/44'/0'/0'/0/3 | 1L8Aoxv6AoaJ3oqEoVAoLJruysFuwnu3nW | xprvA3B55sPmWDUZnRqKY6oYa52nA5Y9Bzwy2ZgC5SxmsLcTWvkYU9bXw5XNcNwq58FEr6ftZfPCWb6iRcZJUxBSGD7mKYx9xE8AkiYXp4eFaZT | xpub6GARVNvfLb2rzuune8LYwCyWi7NdbTfpPnbnsqNPRg9SPj5h1gunUsqrTfWAH3qUseWzRngm5GkJdhKrj8q1B1x74CeJs6KzBYXkBWCesMQ | L3AqcMFqwfTN56LcVFCwac8SgoKqHQNziDTWDNrkjh2q7bE73Tvn | 037aa4f3ae1d9d7d57503c59a1e5144efc1f9d4a09f68f34b925fe7cbd1a6ae0e9 | d1c57d88eb067551bd1ab986aa96a8e10979a5e2 |     3 |\\n| m/44'/0'/0'/0/4 | 17LXwyUbkEi1jLtVfWYE6ugXFvwazTwB2q | xprvA3B55sPmWDUZpCRCUraoWhmxyJ1AZ8TEfUnmmeaY1V5qzi54X8GW2nMd4if3QoqSjPDZcWHD9aQNiTXu3ufRaurPuiVu6VTq49WxpcuJgs4 | xpub6GARVNvfLb2s2gVfat7osqihXKqexbB62hiNa2z9ZpcpsWQD4fakaag6v2NK7zo3d5xCQCJuRU9MNcFauLELKN8f8mYc7861XaC4xuhwVo8 | KxHiMwzFJCfcsi8un6nszf5Az8mewkz3XN6Xkhge236qTy6TWdmo | 0380fd2e7d435e1d0605c5f725b589d804765a4844f55cafdb8c4f3fda4dc944c1 | 45827dee58c9441280e0760aa57be9b5826c59c6 |     4 |\\n| m/44'/0'/0'/0/5 | 1K4Gwwfn8r445ZGmsD2GQe9biUtuKxcmeU | xprvA3B55sPmWDUZrnZF4gFcQbDfa8RwGFMtv7FLxHjHLbpXKCgauSeZ5mqVRA7Fnzj8mB26dzMswNWBbyYZkVbYSDytq6bPyCrAY6etBsgDUhD | xpub6GARVNvfLb2s5GdiAhncmjAQ8AGRfi5kHLAwkg8ttwMWC11jSyxoda9yGT75JfpvYZLhhHhZ6bVybMHgMrqqpC6mYTyKYiTi3CrtyRhU8Eh | KyqTQySQvdq8vPcnqPjv7VBDG54DqudpR2xBdEVwbfjnVjPKxg2E | 035108dfc3df034c5993f7fa358f60d4f672547abbe73dd9d279420c066c50a69f | c610d2f9540c1ed708e493865a6ad128c81334c9 |     5 |\\n| m/44'/0'/0'/0/6 | 15ckcQKQ3r9aFi6tDhMoNNMgg9GNjVC12F | xprvA3B55sPmWDUZv7mc53e2PHspMbW2eKAhUbDD8tkUC638FaUNkDUJHE3vmEPsrSKTLUqQAKXrQTnV7GtW7u9b8WwYjqyd1ABmhuSZ5pXnyqd | xpub6GARVNvfLb2s8br5B5B2kRpYudLX3mtYqp8owHA5kRa78NoXHknYq2NQcUbB26NpFR3mwjqUwu6DVLKyDPW5Y5YYxTpJ3UhG7CAVYw76vB8 | L4wniFqMYFx6NwKnTR8iDvb2mxaF8A1pK5gH23twEbErrS9m74YE | 0278735dda9b40d74687d4aa285404e96103532886456c2b6ac44f291fe9660f0c | 32a37745d6562952c2184b79dbc531b7cf03e9e1 |     6 |\\n| m/44'/0'/0'/0/7 | 1J1jrykEVQApAPZjjrA927v83MaKEJVgWu | xprvA3B55sPmWDUZz2DigFCk3XAJGf9W3GdqJenP9b6bzioWXoatxz8sgqUe8G3RaiELXb7jpC742bzQN2o7SBu1ArLBb1czVcbxuZZyQZidVCJ | xpub6GARVNvfLb2sCWJBnGjkQf72pgyzSjMgfshywyWDZ4LVQbv3WXT8Edo7yZG4qEz6JFwsjx5uBGWyr4LHNFkbJo8PYUJ2fWNejSUGN1dArh2 | L4PLSteeH21GeqRk7bNkRroSV7fd5yvaB2WEhYTNoKRT2KUp4Wcf | 03f5e69e23bbb47464e5bda96efaccde82171a34099c774fa3a6ed1999ef5d5ded | ba9deadf110e7f82b743288035d21ff2a17dd987 |     7 |\\n| m/44'/0'/0'/0/8 | 15Dw6TXdwyT9zjMo6Fq2gudCK47x7vUU4e | xprvA3B55sPmWDUZzN89fgNowqiXUbu7d5bQpryrUSbVdadcq5jxfvUVFsb3qonrKRjKSgJcUjYy2Wi95BhmCyBCD9vpCR4wjwK9JHWePjzgSik | xpub6GARVNvfLb2sCrCcmhupJyfG2djc2YKGC5uTGq17BvAbht57DTnjofuXh6FHUXbxk6qu4YGVPjm6CrTgzjcLCuP4p8whxtdjNtrHgxz8eV5 | Kxv8xsya2WNrKe7GYiAeb5LZB51uTuNr5q1FRp6d6HjpKDL67DFA | 02ee5763a9f501b941d9dc2afe578f09e53d5d662cdf2ecd29a2f32264e730c2af | 2e52a6704fee8a9d7f5f1a78a523fd36f7d24c29 |     8 |\\n| m/44'/0'/0'/0/9 | 19CSNkXE3UaUnZYYvMTC3MqZVtFyq4S4Sz | xprvA3B55sPmWDUa4i2ssHxPjiwtoaE9CL8BEBCJeUGsxxCytxiRD8EoNfLybphbPHJGqWqRGSbKxGpHcinJ4To2CzkEK7MNai3ie3HXMsawTHq | xpub6GARVNvfLb2sHC7LyKVQ6rtdMc4dbnr2bQ7uSrgVXHjxmm3ZkfZ3vTfTT76NjFsNBMWSg5v5rucPSXW6fkZo753boNtZiCGA4voWPBm86Np | L1ZvnxbTtpb7CXKnArYxKxcdV4TTZM2zHpv9uNW18kon8CXn4auc | 03352a27ae953e431a3f598099fbf7beec3092176044abdb776b77c1376514ae9e | 59eac38aea43ca650b07be6e12c4c785bc4e01a1 |     9 |\\n+-----------------+------------------------------------+-----------------------------------------------------------------------------------------------------------------+-----------------------------------------------------------------------------------------------------------------+------------------------------------------------------+--------------------------------------------------------------------+------------------------------------------+-------+\\n\\n\"\n"
     ]
    }
   ],
   "source": [
    "coin = ETH\n",
    "mnemonic=mnemonic\n",
    "depth=3\n",
    "\n",
    "command = f'php derive -g --mnemonic={mnemonic} --coin={coin} --numderive={depth} --format=json'\n",
    "p = subprocess.Popen(command, stdout=subprocess.PIPE, shell=True)\n",
    "(output, err) = p.communicate()\n",
    "print(output)"
   ]
  },
  {
   "cell_type": "code",
   "execution_count": 4,
   "metadata": {},
   "outputs": [
    {
     "name": "stdout",
     "output_type": "stream",
     "text": [
      "[{'path': \"m/44'/1'/0'/0/0\", 'address': 'misdfbpNUpiQ4pnnJ1ureBrgvH26t4i7TS', 'xprv': 'tprv8k279QWLXvYYUX1rpCdRMNXiy17TJhJq1qHjieBGFGKhVaMcdwcycKQbcvCkZhRseFDtse3V8vovePr95gnYMnyoLMRmMwGphkGV8UaqK2E', 'xpub': 'tpubDGi9HpYagJEDMz3ehrJ1knBqY2dPU2Vjb8tX1ADZfY86L4cPGLSZnp2To4jEjrEjSDS89Ua7d2i7u2AxXQB6CQQuHmcna3yxeaQDxZE7FYe', 'privkey': 'cRgWbrZ2RACbvsgHotbiMFQPoXrth795ao3N28cD3gWkEZfWfB4z', 'pubkey': '034a4de51b7cc512362c303e3a67c535d33fb2e1de3fecb7ce2a7ccba55bf03dcf', 'pubkeyhash': '24d18ff05d5eb92c07b877158506f2e762c554cb', 'index': 0}, {'path': \"m/44'/1'/0'/0/1\", 'address': 'mtJcEHyeGCY718iQ4amva5HKZ6BG2M46sg', 'xprv': 'tprv8k279QWLXvYYXqRfvaiSqHSzKaZHCHHeLwFMph3S2UqktGWhf2tbjJ5cUBvZL7oiwMuzhtEHUCuErhh4UCoTbMoEpA22UBs892awpXwFkpA', 'xpub': 'tpubDGi9HpYagJEDRJTTpEP3Eh76tc5DMcUYvEr97D5jSke9ikmUHRiBunhUeKXTUVXhKDnVCUgLAk9CyaPVyPmvNTMbWtarDDZQoLuFuPP2uyL', 'privkey': 'cQwTBjLT8oAhFLSiJWsFMHWbEKQCTza4ziP7gS7fyTu8EvmWAJP2', 'pubkey': '02ba7a587e4ecca16400e597596acb11787714072f5dc7d1ea3e7cfae7ef91d7b7', 'pubkeyhash': '8c43e4f52823c4fbb54d7c99b5f421426466c2ac', 'index': 1}, {'path': \"m/44'/1'/0'/0/2\", 'address': 'mzjrYyiror8be3qQL8DmDgFb6HVEg2nc34', 'xprv': 'tprv8k279QWLXvYYaGw4iCr5yxp6K2C1SQsZo5BLEE3rZFuaehv3jJL95Dxkx7UqioW4S5KUUjU9kLEU2TE579hNbbuLJ26VLvDNyg9r1pjXn6r', 'xpub': 'tpubDGi9HpYagJEDTjxrbrWgPNUCt3hwbk4UNNn7Wk69yXhyVCApMh9jFiad8EwrUYKd3gzdyTz2BsmZw63K4G8cwDcUVK55rJkYkScWs1EyS5p', 'privkey': 'cSpH2PVuaxLzo2QUu4PRY9duVfExx962fdkpXDR8Nubn3TQo85oS', 'pubkey': '02e08e2814a0ecb0bea53e1fbc45cd63a5ba22d431755c4fea8497a16a0ad71bdd', 'pubkeyhash': 'd2db00ef34e7821ff3d6972d582cac54458bdb0e', 'index': 2}]\n"
     ]
    }
   ],
   "source": [
    "coin='btc-test'\n",
    "mnemonic=mnemonic\n",
    "depth=3\n",
    "\n",
    "command = f'php derive -g --mnemonic=\"{mnemonic}\" --coin={coin}  --numderive={depth} --format=json'\n",
    "p = subprocess.Popen(command, stdout=subprocess.PIPE, shell=True)\n",
    "(output, err) = p.communicate()\n",
    "keys = json.loads(output)\n",
    "print(keys)"
   ]
  },
  {
   "cell_type": "code",
   "execution_count": 5,
   "metadata": {},
   "outputs": [
    {
     "name": "stdout",
     "output_type": "stream",
     "text": [
      "[{'path': \"m/44'/0'/0'/0/0\", 'address': '1A8tGD7fMzbh3a7EJtcZjRyRgDgRTeXGP5', 'xprv': 'xprvA2ehDTw5RchBnyZs55gdWVGoHcqYjT45HPMD8ivS1nthkQypttYGZYm3zRXR9Skrf18n28Ag7mwJgmvAAQNyY4cjHfCVKxej1FAGPVo2n4v', 'xpub': 'xpub6Fe3cyTyFzFV1TeLB7DdsdDXqeg38umvecGow7L3a8RgdDJySRrX7M5Xqj1cNeL6XsuKRBALVszWXaymJUywZDFhQyY2J7gayuRbh7keNX7', 'privkey': 'L1C38PQQSqDjiAAjFZ3CWEaBvHvz87NDXctKtSKtQoV1G3jwwNCv', 'pubkey': '03b9e32e45dd4e90af65b4d32aa6e697c0edc1177109965cca35430585bea0516a', 'pubkeyhash': '6436d5d87b3777c71031e910dd4d71d37b61b807', 'index': 0}, {'path': \"m/44'/0'/0'/0/1\", 'address': '1G5qPFt63hpSRHQuv8VLvvH7eGKKxYz7y2', 'xprv': 'xprvA2ehDTw5RchBr5wbAMX7se8DFJ3QRhZeoDB8fy8jEKJ4GxiZttE1ejJ3xpvT1K49PmRhuRpVVxmzVNDJUq33g1uBqJJFWXDwVHRr9hgS9iV', 'xpub': 'xpub6Fe3cyTyFzFV4a24GP48En4woKstqAHWAS6jUMYLneq39m3iSRYGCXcXp6PHotueQHgA83EVEA8WB1o54BV7CQSuDA2JDojfTwrnXm5zphE', 'privkey': 'KyLeDPVz3u8P9Ybw3UnsE29gqhsN55XDe9NQa7K3sbJV3FeEgw8j', 'pubkey': '02782d4b998df65ac377461c8bff09ee96714169416aff0544047cd745f0bb3593', 'pubkeyhash': 'a573f076ae1373e3472d2e5ab69debe61ab9c949', 'index': 1}, {'path': \"m/44'/0'/0'/0/2\", 'address': '14JmWHaoPmj5Q3MmunPz8RnPt7363es8Dw', 'xprv': 'xprvA2ehDTw5RchBt9gf5fmwaE6EJJ93RuMA3WjAWytZk6KdWTnfzVUVsAy2DsarHK3wbZU64PhXuXNXoDxdBP8bgwQrtFh14qhYPNyziPF46DH', 'xpub': 'xpub6Fe3cyTyFzFV6dm8BhJwwN2xrKyXqN51QjemKNJBJRrcPG7pY2nkQyHW594jCwBSfxcwfRmJ2tfWFeqHthFMi7RwqfYxsHaWFQvgNrCMdGQ', 'privkey': 'KzSHttmKzzkS9QQjWn84eiDtnw5bjLYi2dbKG7BRDvDEt2J1kx1d', 'pubkey': '029b463fa8771bb128b0dd3aa41077d1ec75c91f2a0ef7ca9ca2c07064b8357755', 'pubkeyhash': '2444997bd84c347e8db6f8705bb32923c09413ba', 'index': 2}]\n"
     ]
    }
   ],
   "source": [
    "coin=BTC\n",
    "mnemonic=mnemonic\n",
    "depth=3\n",
    "\n",
    "command = f'php derive -g --mnemonic=\"{mnemonic}\" --coin={coin}  --numderive={depth} --format=json'\n",
    "p = subprocess.Popen(\n",
    "    command,\n",
    "    stdout=subprocess.PIPE,\n",
    "    shell=True)\n",
    "(output, err) = p.communicate()\n",
    "p_status = p.wait()\n",
    "keys = json.loads(output)\n",
    "print(keys)"
   ]
  },
  {
   "cell_type": "code",
   "execution_count": 6,
   "metadata": {},
   "outputs": [],
   "source": [
    "def derive_wallets(coin=BTC, mnemonic=mnemonic, depth=3):\n",
    "    command = f'php derive -g --mnemonic=\"{mnemonic}\" --coin={coin}  --numderive={depth} --format=json'\n",
    "\n",
    "    p = subprocess.Popen(\n",
    "        command,\n",
    "        stdout=subprocess.PIPE,\n",
    "        shell=True)\n",
    "    \n",
    "    (output, err) = p.communicate()\n",
    "    p_status = p.wait()\n",
    "    \n",
    "    return json.loads(output)"
   ]
  },
  {
   "cell_type": "code",
   "execution_count": 7,
   "metadata": {},
   "outputs": [
    {
     "name": "stdout",
     "output_type": "stream",
     "text": [
      "{'btc-test': [{'address': 'misdfbpNUpiQ4pnnJ1ureBrgvH26t4i7TS',\n",
      "               'index': 0,\n",
      "               'path': \"m/44'/1'/0'/0/0\",\n",
      "               'privkey': 'cRgWbrZ2RACbvsgHotbiMFQPoXrth795ao3N28cD3gWkEZfWfB4z',\n",
      "               'pubkey': '034a4de51b7cc512362c303e3a67c535d33fb2e1de3fecb7ce2a7ccba55bf03dcf',\n",
      "               'pubkeyhash': '24d18ff05d5eb92c07b877158506f2e762c554cb',\n",
      "               'xprv': 'tprv8k279QWLXvYYUX1rpCdRMNXiy17TJhJq1qHjieBGFGKhVaMcdwcycKQbcvCkZhRseFDtse3V8vovePr95gnYMnyoLMRmMwGphkGV8UaqK2E',\n",
      "               'xpub': 'tpubDGi9HpYagJEDMz3ehrJ1knBqY2dPU2Vjb8tX1ADZfY86L4cPGLSZnp2To4jEjrEjSDS89Ua7d2i7u2AxXQB6CQQuHmcna3yxeaQDxZE7FYe'},\n",
      "              {'address': 'mtJcEHyeGCY718iQ4amva5HKZ6BG2M46sg',\n",
      "               'index': 1,\n",
      "               'path': \"m/44'/1'/0'/0/1\",\n",
      "               'privkey': 'cQwTBjLT8oAhFLSiJWsFMHWbEKQCTza4ziP7gS7fyTu8EvmWAJP2',\n",
      "               'pubkey': '02ba7a587e4ecca16400e597596acb11787714072f5dc7d1ea3e7cfae7ef91d7b7',\n",
      "               'pubkeyhash': '8c43e4f52823c4fbb54d7c99b5f421426466c2ac',\n",
      "               'xprv': 'tprv8k279QWLXvYYXqRfvaiSqHSzKaZHCHHeLwFMph3S2UqktGWhf2tbjJ5cUBvZL7oiwMuzhtEHUCuErhh4UCoTbMoEpA22UBs892awpXwFkpA',\n",
      "               'xpub': 'tpubDGi9HpYagJEDRJTTpEP3Eh76tc5DMcUYvEr97D5jSke9ikmUHRiBunhUeKXTUVXhKDnVCUgLAk9CyaPVyPmvNTMbWtarDDZQoLuFuPP2uyL'},\n",
      "              {'address': 'mzjrYyiror8be3qQL8DmDgFb6HVEg2nc34',\n",
      "               'index': 2,\n",
      "               'path': \"m/44'/1'/0'/0/2\",\n",
      "               'privkey': 'cSpH2PVuaxLzo2QUu4PRY9duVfExx962fdkpXDR8Nubn3TQo85oS',\n",
      "               'pubkey': '02e08e2814a0ecb0bea53e1fbc45cd63a5ba22d431755c4fea8497a16a0ad71bdd',\n",
      "               'pubkeyhash': 'd2db00ef34e7821ff3d6972d582cac54458bdb0e',\n",
      "               'xprv': 'tprv8k279QWLXvYYaGw4iCr5yxp6K2C1SQsZo5BLEE3rZFuaehv3jJL95Dxkx7UqioW4S5KUUjU9kLEU2TE579hNbbuLJ26VLvDNyg9r1pjXn6r',\n",
      "               'xpub': 'tpubDGi9HpYagJEDTjxrbrWgPNUCt3hwbk4UNNn7Wk69yXhyVCApMh9jFiad8EwrUYKd3gzdyTz2BsmZw63K4G8cwDcUVK55rJkYkScWs1EyS5p'}],\n",
      " 'eth': [{'address': '0xE8871046ea8Ad02D624b8A46b85fBE3A9f4CDD95',\n",
      "          'index': 0,\n",
      "          'path': \"m/44'/60'/0'/0/0\",\n",
      "          'privkey': '0x19eebb24f83b7eaf94dd72bcdd6198b0e96807d38aec247e9bf2860e6a59bbc8',\n",
      "          'pubkey': '034cf22fa276f7a60b229cd841f31041051fda6eadec404d451b62168223f51996',\n",
      "          'pubkeyhash': 'd66e9abe365a2f0cd68ecea7f173eb20ea5174b5',\n",
      "          'xprv': 'xprvA37EPevUewR3okBwgn6s8cA19AJTqEdzZJAht2iD4T7CCDGZrWmYiitJ8BkywgPvEMSL8J1Hh3KXUBXhooQsdKZNMko8wtq5kzy3yRix4V1',\n",
      "          'xpub': 'xpub6G6aoATNVJyM2EGQnodsVk6jhC8xEhMqvX6JgR7pcneB51biQ45oGXCmyV7xdgizM2FkCEFDNxQKYMZ1aep3SaW3qkx8zkaZyymY8PpoaBP'},\n",
      "         {'address': '0xf83703A164EE36b132F731880897919480Ca87C6',\n",
      "          'index': 1,\n",
      "          'path': \"m/44'/60'/0'/0/1\",\n",
      "          'privkey': '0x05502dbf7ac1e344746d4d7854f147afd166911c87433ab66b7f9fc5fa856455',\n",
      "          'pubkey': '02bce8f193b3aaeddf99816e1f8448b2cc8daf0a5c3a16db0341d6c9c5b22beebc',\n",
      "          'pubkeyhash': '921f4874f501984b363490114bf9de7a67d255ba',\n",
      "          'xprv': 'xprvA37EPevUewR3r5GDKCAtKapc7tNz4TSurpyE3f2CywWYHgtF9sThDAQZ9cjQyFfoH3q84NkwijoyrueyrUd2z5bWmaBw9cbSnZTkaMxz4WE',\n",
      "          'xpub': 'xpub6G6aoATNVJyM4ZLgRDhtgimLfvDUTvAmE3tpr3RpYH3XAVDPhQmwkxj2zuA39N3bskCa3UnpUQBSDNKovxJE33q5yccnHnUGY2jwBHMGX9s'},\n",
      "         {'address': '0xC8D2c179a9842266786d5188b2ba3518960016BC',\n",
      "          'index': 2,\n",
      "          'path': \"m/44'/60'/0'/0/2\",\n",
      "          'privkey': '0x9ed7b7f33e781a4a1d6149590c040c98ca38675fe98d9a3b9783e82a6ccf203b',\n",
      "          'pubkey': '02a1ad58c102e66cd29407532a525fc1825c406096cc8d5a1a497bbadacbbc30b7',\n",
      "          'pubkeyhash': 'ac887faec7e5687377732da72a5cded7ce1eeb17',\n",
      "          'xprv': 'xprvA37EPevUewR3ujQRuYSWYPUAnxrsbaZjfC8DxbPLv5CUn3KCJQucRSmjnVLJNZStgFarHYWc65RMrhVyffhbEtAHxACJUxpmbWFhxicvVDa',\n",
      "          'xpub': 'xpub6G6aoATNVJyM8DUu1ZyWuXQuLzhN13Hb2R3pkynxUQjTeqeLqxDryF6DdkPKDaZjiZ2Jn1EWWj7QeigfJ7KNVTWxhjni6j9rJvuTcWETs7F'}]}\n"
     ]
    }
   ],
   "source": [
    "coins = {\n",
    "    ETH: derive_wallets(coin=ETH),\n",
    "    BTCTEST: derive_wallets(coin=BTCTEST),\n",
    "}\n",
    "pprint(coins)"
   ]
  },
  {
   "cell_type": "code",
   "execution_count": 8,
   "metadata": {},
   "outputs": [],
   "source": [
    "def priv_key_to_account(coin, priv_key):\n",
    "    if coin == ETH: \n",
    "        return Account.privateKeyToAccount(priv_key)\n",
    "    if coin == BTCTEST:\n",
    "        return PrivateKeyTestnet(priv_key)"
   ]
  },
  {
   "cell_type": "code",
   "execution_count": 9,
   "metadata": {},
   "outputs": [],
   "source": [
    "# Use the private key to send transactions\n",
    "private_key = coins['eth'][0]['privkey']"
   ]
  },
  {
   "cell_type": "code",
   "execution_count": 10,
   "metadata": {},
   "outputs": [
    {
     "name": "stdout",
     "output_type": "stream",
     "text": [
      "0xE8871046ea8Ad02D624b8A46b85fBE3A9f4CDD95\n"
     ]
    },
    {
     "data": {
      "text/plain": [
       "<eth_account.signers.local.LocalAccount at 0x1dec80a5088>"
      ]
     },
     "execution_count": 10,
     "metadata": {},
     "output_type": "execute_result"
    }
   ],
   "source": [
    "# Account One address saved\n",
    "account_one = priv_key_to_account(ETH, private_key)\n",
    "print(account_one.address)\n",
    "account_one"
   ]
  },
  {
   "cell_type": "code",
   "execution_count": 11,
   "metadata": {},
   "outputs": [
    {
     "name": "stdout",
     "output_type": "stream",
     "text": [
      "0xE8871046ea8Ad02D624b8A46b85fBE3A9f4CDD95\n"
     ]
    },
    {
     "data": {
      "text/plain": [
       "<eth_account.signers.local.LocalAccount at 0x1deca1252c8>"
      ]
     },
     "execution_count": 11,
     "metadata": {},
     "output_type": "execute_result"
    }
   ],
   "source": [
    "# Account Two address saved\n",
    "account_two = Account.from_key(private_key)\n",
    "print(account_two.address)\n",
    "account_two"
   ]
  },
  {
   "cell_type": "code",
   "execution_count": 12,
   "metadata": {},
   "outputs": [],
   "source": [
    "# Address balance\n",
    "w3.eth.getBalance(\"0xE8871046ea8Ad02D624b8A46b85fBE3A9f4CDD95\")\n",
    "\n",
    "# Send eth to this account address\n",
    "to = \"0xE8871046ea8Ad02D624b8A46b85fBE3A9f4CDD95\""
   ]
  },
  {
   "cell_type": "code",
   "execution_count": 13,
   "metadata": {},
   "outputs": [],
   "source": [
    " def create_raw_tx(account, recipient, amount):\n",
    "    gasEstimate = w3.eth.estimateGas(\n",
    "        {\"from\": account.address, \"to\": recipient, \"value\": amount}\n",
    "    )\n",
    "    return {\n",
    "        \"from\": account.address,\n",
    "        \"to\": recipient,\n",
    "        \"value\": amount,\n",
    "        \"gasPrice\": w3.eth.gasPrice,\n",
    "        \"gas\": gasEstimate,\n",
    "        \"nonce\": w3.eth.getTransactionCount(account.address),\n",
    "    }"
   ]
  },
  {
   "cell_type": "code",
   "execution_count": 14,
   "metadata": {},
   "outputs": [],
   "source": [
    "def send_tx(account, recipient, amount):\n",
    "    tx = create_raw_tx(account, recipient, amount)\n",
    "    signed_tx = account.sign_transaction(tx)\n",
    "    result = w3.eth.sendRawTransaction(signed_tx.rawTransaction)\n",
    "    print(result.hex())\n",
    "    return result.hex()"
   ]
  },
  {
   "cell_type": "code",
   "execution_count": 15,
   "metadata": {},
   "outputs": [
    {
     "name": "stdout",
     "output_type": "stream",
     "text": [
      "0x94328e127ff273ecfefefecbff725b77c8e378a33da24d8d81f8c846f8052916\n"
     ]
    },
    {
     "data": {
      "text/plain": [
       "'0x94328e127ff273ecfefefecbff725b77c8e378a33da24d8d81f8c846f8052916'"
      ]
     },
     "execution_count": 15,
     "metadata": {},
     "output_type": "execute_result"
    }
   ],
   "source": [
    "send_tx(account_one, to, 3)"
   ]
  }
 ],
 "metadata": {
  "kernelspec": {
   "display_name": "Python 3",
   "language": "python",
   "name": "python3"
  },
  "language_info": {
   "codemirror_mode": {
    "name": "ipython",
    "version": 3
   },
   "file_extension": ".py",
   "mimetype": "text/x-python",
   "name": "python",
   "nbconvert_exporter": "python",
   "pygments_lexer": "ipython3",
   "version": "3.7.7"
  }
 },
 "nbformat": 4,
 "nbformat_minor": 4
}
